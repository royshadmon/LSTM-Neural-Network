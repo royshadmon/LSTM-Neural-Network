{
 "cells": [
  {
   "cell_type": "code",
   "execution_count": 1,
   "metadata": {},
   "outputs": [
    {
     "name": "stdout",
     "output_type": "stream",
     "text": [
      "[nltk_data] Downloading package punkt to /Users/Alex/nltk_data...\n",
      "[nltk_data]   Package punkt is already up-to-date!\n"
     ]
    },
    {
     "data": {
      "text/plain": [
       "'\\ndf2 = pd.read_table(\\'glove.twitter.27B.25d.txt\\', sep=\" \", index_col=0, header=None, quoting=csv.QUOTE_NONE)\\n\\ndef vectorize(w):\\n  return df2.loc[w].as_matrix()\\n'"
      ]
     },
     "execution_count": 1,
     "metadata": {},
     "output_type": "execute_result"
    }
   ],
   "source": [
    "import numpy as np\n",
    "import matplotlib.pyplot as plt\n",
    "import sklearn\n",
    "import pandas as pd\n",
    "import csv\n",
    "import tensorflow as tf\n",
    "import nltk \n",
    "\n",
    "import gensim as gs\n",
    "\n",
    "from numpy import array\n",
    "from numpy import argmax\n",
    "from sklearn.preprocessing import LabelEncoder\n",
    "from sklearn.preprocessing import OneHotEncoder\n",
    "from tensorflow.contrib import rnn\n",
    "\n",
    "from numpy import array\n",
    "from numpy import argmax\n",
    "from sklearn.preprocessing import LabelEncoder\n",
    "from sklearn.preprocessing import OneHotEncoder\n",
    "\n",
    "nltk.download('punkt')\n",
    "\n",
    "df1 = pd.read_csv('HillaryTrumpTrainWithTags.csv')\n",
    "df2 = pd.read_csv('TrumpHillaryTest.csv')\n",
    "\"\"\"\n",
    "df2 = pd.read_table('glove.twitter.27B.25d.txt', sep=\" \", index_col=0, header=None, quoting=csv.QUOTE_NONE)\n",
    "\n",
    "def vectorize(w):\n",
    "  return df2.loc[w].as_matrix()\n",
    "\"\"\"\n",
    "  "
   ]
  },
  {
   "cell_type": "code",
   "execution_count": 2,
   "metadata": {},
   "outputs": [],
   "source": [
    "def handleToNumber(handle):\n",
    "    if handle == \"realDonaldTrump\":\n",
    "        return 0\n",
    "    else:\n",
    "        return 1"
   ]
  },
  {
   "cell_type": "code",
   "execution_count": 3,
   "metadata": {},
   "outputs": [],
   "source": [
    "df1['tokenized_tweets'] = df1.apply(lambda row: nltk.word_tokenize(row['tweet']), axis=1)\n",
    "df1['labels'] = df1.apply(lambda row: handleToNumber(row['handle']), axis=1)\n",
    "df2['tokenized_tweets'] = df2.apply(lambda row: nltk.word_tokenize(row['tweet']), axis=1)"
   ]
  },
  {
   "cell_type": "code",
   "execution_count": 4,
   "metadata": {},
   "outputs": [],
   "source": [
    "tweets = df1['tokenized_tweets']\n",
    "tweets_test = df2['tokenized_tweets']"
   ]
  },
  {
   "cell_type": "code",
   "execution_count": 5,
   "metadata": {},
   "outputs": [],
   "source": [
    "length = []\n",
    "_ = df1.apply(lambda row: length.append(len(row['tokenized_tweets'])), axis=1)\n",
    "max_length = max(length)"
   ]
  },
  {
   "cell_type": "code",
   "execution_count": 6,
   "metadata": {},
   "outputs": [
    {
     "data": {
      "text/plain": [
       "54"
      ]
     },
     "execution_count": 6,
     "metadata": {},
     "output_type": "execute_result"
    }
   ],
   "source": [
    "max_length"
   ]
  },
  {
   "cell_type": "code",
   "execution_count": 7,
   "metadata": {},
   "outputs": [],
   "source": [
    "vectorizer = gs.models.Word2Vec(df1['tokenized_tweets'].append(df2['tokenized_tweets']) , min_count=1, size = 25, iter = 10)"
   ]
  },
  {
   "cell_type": "code",
   "execution_count": 8,
   "metadata": {},
   "outputs": [],
   "source": [
    "train_matrix = []\n",
    "\n",
    "for i, tweet in enumerate(tweets):\n",
    "    #print(type(string))\n",
    "    train_matrix.append(vectorizer.wv[tweet])"
   ]
  },
  {
   "cell_type": "code",
   "execution_count": 9,
   "metadata": {},
   "outputs": [],
   "source": [
    "# np.array(train_matrix).reshape(len(train_matrix),1)"
   ]
  },
  {
   "cell_type": "code",
   "execution_count": 10,
   "metadata": {},
   "outputs": [
    {
     "data": {
      "text/plain": [
       "array([[-7.7032220e-01, -1.2193146e-01,  4.1359020e-03, -6.0007262e-01,\n",
       "        -2.4494222e-01, -9.7171414e-01, -6.2714732e-01,  8.3825207e-01,\n",
       "        -3.6522999e-01,  6.9132221e-01, -2.8872913e-01, -1.3279600e+00,\n",
       "         2.3248729e-01, -1.4963131e+00, -7.7340651e-01,  7.2327018e-01,\n",
       "         8.6777234e-01,  4.3605655e-01, -3.2279655e-01,  1.2711742e+00,\n",
       "        -3.6322108e-01, -1.1291100e+00, -1.6478616e+00,  2.9083350e-01,\n",
       "         1.5827245e+00],\n",
       "       [-4.1123804e-01,  1.1677785e-01,  2.3139414e-01, -2.3191978e-01,\n",
       "        -1.1588040e-01, -2.5382185e-01, -8.5182816e-02,  5.7307720e-02,\n",
       "        -3.8503209e-01,  2.9095531e-01, -2.7462238e-01, -5.8055854e-01,\n",
       "        -1.3876688e-01, -2.0358045e-01, -2.0298913e-01,  2.9843113e-01,\n",
       "         3.6719662e-01, -9.1934972e-02, -3.3539119e-01,  1.5538894e-02,\n",
       "        -4.3345141e-01, -5.9578115e-01, -4.3345347e-01,  2.2580647e-01,\n",
       "         3.9867911e-01],\n",
       "       [-4.7507676e-01, -4.2110884e-01, -2.6207894e-01,  3.2794264e-01,\n",
       "        -9.8856384e-01, -8.4086525e-01, -8.1515479e-01,  1.5958107e+00,\n",
       "         8.3290172e-01,  1.0038242e+00,  6.4833218e-01, -1.5397937e+00,\n",
       "         1.3604617e+00, -1.3708826e+00, -3.1222114e-01,  1.0344549e+00,\n",
       "         1.5249593e+00,  1.0541924e+00, -9.0952957e-01,  2.3394413e+00,\n",
       "         2.3212741e-01, -2.6548715e+00, -3.6562866e-01,  1.8330935e+00,\n",
       "         2.2433543e+00],\n",
       "       [-1.1570645e-01,  1.2720243e-02,  7.1071491e-02, -9.2342302e-02,\n",
       "         1.5820980e-02, -8.8492930e-02, -6.0118265e-02,  1.0711894e-01,\n",
       "        -5.3698603e-02,  1.2049669e-01, -8.6010434e-02, -2.0866044e-01,\n",
       "        -7.8850046e-02, -1.5349476e-01, -9.9844329e-02,  9.7025461e-02,\n",
       "         1.6806410e-01,  1.0780314e-01, -1.6878103e-01,  2.7982565e-02,\n",
       "        -7.1004450e-02, -3.6270824e-01, -1.2020306e-01,  1.2249160e-01,\n",
       "         2.2805782e-01],\n",
       "       [-2.9646245e-01,  2.8022485e-02,  2.8676055e-02, -4.7333235e-01,\n",
       "         3.2410347e-01, -6.2746191e-01, -5.1906490e-01, -9.1511327e-01,\n",
       "        -3.1615311e-01,  1.2925779e+00, -2.3564701e-01, -1.5154044e-01,\n",
       "        -9.0056527e-01, -5.4726982e-01, -6.5592635e-01,  4.2440224e-01,\n",
       "         9.5331597e-01, -1.7427169e-01, -9.0898883e-01,  2.5387315e-02,\n",
       "         1.4447251e-01, -1.2590034e+00,  2.3003611e-01,  6.2986279e-01,\n",
       "         1.3464910e+00],\n",
       "       [-2.4819124e+00,  1.8756287e+00,  1.2012540e+00, -1.8212069e+00,\n",
       "         3.0588689e+00, -1.2436192e-01, -2.2665100e+00,  2.8932562e+00,\n",
       "         2.9932284e+00,  2.2600734e+00,  2.1480408e-02, -1.7774733e-02,\n",
       "         4.9433085e-01, -4.4219646e+00, -1.7664489e+00,  1.1469623e+00,\n",
       "         1.6347752e+00,  4.4538087e-01, -1.9244170e+00,  7.0388335e-01,\n",
       "         2.3881252e+00, -4.9511595e+00, -1.2890825e+00,  1.1499023e+00,\n",
       "        -6.1984080e-01],\n",
       "       [-2.7971003e+00,  9.4026225e-03, -8.9763600e-01, -9.5451981e-01,\n",
       "         1.8200707e+00, -8.3821505e-01,  2.2328041e-01,  2.3890042e+00,\n",
       "         1.6393816e+00, -6.1511537e-03,  1.6113504e+00, -1.1961017e+00,\n",
       "         2.5412657e+00, -4.2283945e+00, -2.3745430e-01,  1.7296575e+00,\n",
       "         1.2880052e+00,  8.6351860e-01, -4.5239764e-01,  1.2317789e+00,\n",
       "         6.4766920e-01, -1.3894317e+00, -1.0835664e+00,  7.8205222e-01,\n",
       "         3.0851002e+00],\n",
       "       [-1.9106658e+00, -1.0351124e+00, -4.0484181e-01, -4.2297006e-01,\n",
       "         1.7641959e+00, -1.1512160e+00,  2.0824648e-01,  1.9297409e+00,\n",
       "         2.6512742e+00,  8.1865454e-01, -5.0128096e-01, -7.7823877e-01,\n",
       "         6.0057777e-01, -2.9290385e+00, -1.1010634e+00,  1.1229974e+00,\n",
       "         1.1357287e+00,  3.3060620e+00, -1.9905266e+00,  2.1926842e+00,\n",
       "        -3.3395058e-01, -2.7183554e+00,  5.2886951e-01,  2.0968569e-02,\n",
       "         2.6530755e+00],\n",
       "       [-2.2269223e+00, -1.9921951e+00, -7.4642766e-01,  4.7672257e-01,\n",
       "         3.5285369e-01, -3.1973502e-01,  6.9793360e-04,  2.1812854e+00,\n",
       "         1.1185381e+00, -1.0541835e+00, -6.6147673e-01, -8.8145763e-01,\n",
       "         2.0733321e+00, -1.5400864e+00, -5.0178522e-01,  1.6598936e+00,\n",
       "         1.7078959e+00,  1.6458545e+00, -8.8779110e-01,  2.1856556e+00,\n",
       "        -2.8279085e+00, -1.9900686e+00, -1.9008556e-01,  5.0682366e-01,\n",
       "         3.0796599e+00],\n",
       "       [-2.8561745e+00,  2.0645323e-01,  4.3746200e-01, -7.1875256e-01,\n",
       "         1.8877522e+00, -1.9044920e+00,  1.0127443e+00,  3.5124424e+00,\n",
       "         3.0221419e+00,  3.3386472e-01,  4.6941631e-02, -2.1406808e+00,\n",
       "         1.5361651e+00, -1.6179839e+00,  4.2500520e-01,  1.6149743e+00,\n",
       "         1.3744755e+00,  2.8579123e+00, -2.4115684e+00,  1.2863736e+00,\n",
       "        -1.1476129e+00, -1.1819011e+00, -7.7294463e-01, -1.2861856e+00,\n",
       "         2.5024385e+00],\n",
       "       [-4.2124871e-02,  7.8340076e-02, -4.7961470e-02,  5.7117902e-02,\n",
       "         6.4420186e-02,  2.5439773e-02,  3.8924865e-02,  1.2851116e-01,\n",
       "         1.9930576e-01, -2.0327121e-03,  7.6121651e-02,  1.1594454e-01,\n",
       "         3.0095290e-04, -9.6106477e-02,  8.0069602e-02,  4.3666184e-02,\n",
       "         1.9318332e-01,  8.9359984e-02, -1.5229575e-01,  4.2974509e-02,\n",
       "         7.4470215e-02, -3.9091296e-02, -9.5862165e-02, -3.9348677e-02,\n",
       "         8.3273724e-02],\n",
       "       [-1.4392103e-01, -3.3482462e-02,  9.3389273e-02, -7.3281601e-02,\n",
       "         4.5286261e-02, -9.8923668e-02,  6.2308819e-03,  1.0292578e-01,\n",
       "         6.3121453e-02,  3.3746202e-02, -5.5898711e-02, -2.8709209e-01,\n",
       "         5.2106276e-02, -2.2205519e-02, -6.4453878e-02,  2.2659802e-01,\n",
       "         2.0700492e-01,  1.7539871e-01, -2.2337519e-01,  1.6434267e-01,\n",
       "        -1.5321261e-01, -3.2201239e-01,  1.1465334e-01,  1.5894571e-01,\n",
       "         3.0489790e-01],\n",
       "       [-1.9062669e+00, -5.7368088e-01, -1.7107608e+00,  5.6106311e-01,\n",
       "         1.0800567e+00, -1.4649501e+00,  3.9381650e-01,  3.2702315e+00,\n",
       "         3.4926639e+00, -8.4801167e-01, -2.8651756e-01, -8.5713774e-01,\n",
       "         2.5904477e+00, -3.3866913e+00, -7.0511335e-01,  6.4882857e-01,\n",
       "         1.9609834e+00,  3.1090276e+00, -1.0365853e+00,  3.5654840e+00,\n",
       "         1.7707796e-01, -1.8444823e+00, -2.5023160e+00, -4.2162904e-01,\n",
       "         3.3325074e+00],\n",
       "       [-9.6087021e-01, -1.4691132e-01, -7.5739807e-01, -6.3585085e-01,\n",
       "         8.4477723e-01, -8.7852925e-01, -1.2317024e+00,  1.5297295e+00,\n",
       "         1.4600223e+00,  1.2764783e+00,  1.1510152e+00, -2.9574287e-01,\n",
       "        -3.8766056e-01, -2.8929493e+00, -5.0518912e-01,  7.8152090e-01,\n",
       "         1.7931676e+00,  1.9448057e+00, -1.3124788e+00,  1.5629690e+00,\n",
       "         9.6423656e-01, -6.6696227e-01, -1.4310191e+00, -2.0696101e-01,\n",
       "         3.2951474e+00],\n",
       "       [-2.7971003e+00,  9.4026225e-03, -8.9763600e-01, -9.5451981e-01,\n",
       "         1.8200707e+00, -8.3821505e-01,  2.2328041e-01,  2.3890042e+00,\n",
       "         1.6393816e+00, -6.1511537e-03,  1.6113504e+00, -1.1961017e+00,\n",
       "         2.5412657e+00, -4.2283945e+00, -2.3745430e-01,  1.7296575e+00,\n",
       "         1.2880052e+00,  8.6351860e-01, -4.5239764e-01,  1.2317789e+00,\n",
       "         6.4766920e-01, -1.3894317e+00, -1.0835664e+00,  7.8205222e-01,\n",
       "         3.0851002e+00],\n",
       "       [-7.6118052e-01,  1.4356688e+00, -8.5232902e-01, -1.6518321e+00,\n",
       "         3.4092608e-01, -3.0310312e-01, -1.6085099e+00, -3.9160183e-01,\n",
       "        -2.0356977e+00,  1.0794203e+00, -3.1032524e+00, -2.2181718e+00,\n",
       "        -2.8559344e+00, -2.5413270e+00, -2.7126606e+00, -3.5768723e-01,\n",
       "         1.1370280e+00, -2.8424747e+00, -3.0290408e+00, -1.3056272e+00,\n",
       "        -1.7124835e+00, -1.0592492e+00, -2.4615049e+00, -1.9482750e+00,\n",
       "         4.2083152e-02],\n",
       "       [-3.9864528e+00,  1.7752969e+00,  1.9167422e+00, -2.2671986e+00,\n",
       "         2.9876956e-01, -2.2857389e+00, -2.0465658e+00, -3.2898147e+00,\n",
       "        -2.4477108e+00,  1.4629498e+00, -1.6013155e+00, -1.7103977e+00,\n",
       "        -3.1944981e+00, -1.1975538e+00, -1.5429296e+00,  2.0060260e+00,\n",
       "         9.7472894e-01, -1.2093235e+00, -3.2672048e+00, -8.5394371e-01,\n",
       "        -2.3380308e+00, -3.8399320e+00, -1.6984226e+00,  9.8731720e-01,\n",
       "         1.2234083e+00],\n",
       "       [-2.1651826e+00,  2.1848786e+00,  2.7016978e+00, -1.7849865e+00,\n",
       "        -2.3105764e-01, -9.5498914e-01, -7.3938912e-01, -1.7756000e+00,\n",
       "        -1.2833539e+00,  1.7891638e-01, -2.9211397e+00, -1.2491081e+00,\n",
       "        -2.6151469e+00, -2.4391661e+00, -3.6580672e+00, -2.4491861e+00,\n",
       "         1.0292726e+00, -2.0716383e+00, -1.1991465e+00, -1.3202410e+00,\n",
       "        -6.2195545e-01, -1.6238848e+00, -2.9200854e+00, -3.0462641e-01,\n",
       "         9.0206391e-01],\n",
       "       [-3.4699042e+00,  1.4014767e+00,  1.4961804e+00, -1.4656543e+00,\n",
       "        -1.3179040e-01, -2.0363426e+00, -2.1036201e+00, -2.0680172e+00,\n",
       "        -2.0410573e+00,  1.9757442e+00, -8.0859083e-01, -2.4372790e+00,\n",
       "        -2.2374353e+00, -1.0852625e+00, -2.4867427e+00,  2.3139470e+00,\n",
       "         1.4429730e+00, -1.2016462e+00, -2.9529610e+00, -1.2402679e+00,\n",
       "        -1.7130394e+00, -2.7242646e+00, -9.4754475e-01,  1.2495497e+00,\n",
       "         1.8288873e+00],\n",
       "       [-2.2763672e+00,  1.2153213e+00,  3.9991611e-01, -6.3575789e-02,\n",
       "        -3.6050174e-01, -6.6050071e-01, -1.5984145e+00, -7.0153171e-01,\n",
       "        -3.6737391e-01,  1.3143873e+00,  7.5540364e-02, -1.0698780e+00,\n",
       "        -1.1339241e+00, -1.2451723e+00, -5.1803851e-01,  1.6339468e+00,\n",
       "         2.4958181e+00, -1.1752293e-01, -2.5762448e+00, -1.4006503e+00,\n",
       "        -7.9246812e-02, -3.7379620e+00,  4.6997480e-02,  2.1393962e+00,\n",
       "         2.1054616e+00],\n",
       "       [-7.6118052e-01,  1.4356688e+00, -8.5232902e-01, -1.6518321e+00,\n",
       "         3.4092608e-01, -3.0310312e-01, -1.6085099e+00, -3.9160183e-01,\n",
       "        -2.0356977e+00,  1.0794203e+00, -3.1032524e+00, -2.2181718e+00,\n",
       "        -2.8559344e+00, -2.5413270e+00, -2.7126606e+00, -3.5768723e-01,\n",
       "         1.1370280e+00, -2.8424747e+00, -3.0290408e+00, -1.3056272e+00,\n",
       "        -1.7124835e+00, -1.0592492e+00, -2.4615049e+00, -1.9482750e+00,\n",
       "         4.2083152e-02],\n",
       "       [-4.0528536e+00,  5.2633107e-01,  6.8362498e-01, -2.4711297e+00,\n",
       "         1.0222049e+00, -2.0862398e+00, -1.4806658e+00, -2.3573725e+00,\n",
       "        -1.5851705e+00,  6.7558682e-01, -6.7108667e-01,  9.2638977e-02,\n",
       "        -8.5650682e-01, -1.8520885e+00, -1.0573560e+00,  9.9376273e-01,\n",
       "        -1.3094211e+00, -2.7154070e-01, -1.7591512e+00, -8.4914589e-01,\n",
       "        -2.0774522e+00, -2.1338754e+00, -2.8803225e+00, -1.0398264e+00,\n",
       "         5.8733898e-01],\n",
       "       [-2.1651826e+00,  2.1848786e+00,  2.7016978e+00, -1.7849865e+00,\n",
       "        -2.3105764e-01, -9.5498914e-01, -7.3938912e-01, -1.7756000e+00,\n",
       "        -1.2833539e+00,  1.7891638e-01, -2.9211397e+00, -1.2491081e+00,\n",
       "        -2.6151469e+00, -2.4391661e+00, -3.6580672e+00, -2.4491861e+00,\n",
       "         1.0292726e+00, -2.0716383e+00, -1.1991465e+00, -1.3202410e+00,\n",
       "        -6.2195545e-01, -1.6238848e+00, -2.9200854e+00, -3.0462641e-01,\n",
       "         9.0206391e-01]], dtype=float32)"
      ]
     },
     "execution_count": 10,
     "metadata": {},
     "output_type": "execute_result"
    }
   ],
   "source": [
    "train_matrix = np.array(train_matrix)\n",
    "train_matrix[0]"
   ]
  },
  {
   "cell_type": "code",
   "execution_count": 11,
   "metadata": {},
   "outputs": [
    {
     "data": {
      "text/plain": [
       "numpy.ndarray"
      ]
     },
     "execution_count": 11,
     "metadata": {},
     "output_type": "execute_result"
    }
   ],
   "source": [
    "type(train_matrix)"
   ]
  },
  {
   "cell_type": "code",
   "execution_count": 12,
   "metadata": {},
   "outputs": [
    {
     "data": {
      "text/plain": [
       "(5000,)"
      ]
     },
     "execution_count": 12,
     "metadata": {},
     "output_type": "execute_result"
    }
   ],
   "source": [
    "train_matrix.shape"
   ]
  },
  {
   "cell_type": "code",
   "execution_count": 13,
   "metadata": {},
   "outputs": [
    {
     "data": {
      "text/plain": [
       "(23, 25)"
      ]
     },
     "execution_count": 13,
     "metadata": {},
     "output_type": "execute_result"
    }
   ],
   "source": [
    "train_matrix[0].shape"
   ]
  },
  {
   "cell_type": "code",
   "execution_count": 14,
   "metadata": {},
   "outputs": [],
   "source": [
    "twit = train_matrix[4999]"
   ]
  },
  {
   "cell_type": "code",
   "execution_count": 15,
   "metadata": {},
   "outputs": [],
   "source": [
    "def pad(twits):\n",
    "    \"\"\"\n",
    "    Does the padding as many times as required\n",
    "    \"\"\"\n",
    "    l = len(twits)\n",
    "    d= twits.shape[1]\n",
    "    padding = np.zeros(d)\n",
    "    \n",
    "    for i in range(0,max_length-l):\n",
    "        twits = np.append(twits,padding)\n",
    "        \n",
    "    return twits.reshape(max_length,d)"
   ]
  },
  {
   "cell_type": "code",
   "execution_count": 16,
   "metadata": {},
   "outputs": [],
   "source": [
    "def pad_matrix(t_matrix):\n",
    "    \"\"\"\n",
    "    Loops through all the vectorized tweets and calls the pad function on each of them.\n",
    "    \"\"\"\n",
    "    \n",
    "    padded_matrix =[]\n",
    "    for i,vectorized_tweet in enumerate(t_matrix):\n",
    "         padded_matrix.append(pad(vectorized_tweet))\n",
    "    padded_matrix = np.array(padded_matrix)\n",
    "    \n",
    "    return padded_matrix"
   ]
  },
  {
   "cell_type": "code",
   "execution_count": 17,
   "metadata": {},
   "outputs": [],
   "source": [
    "padded_train_matrix = pad_matrix(train_matrix)\n",
    "padded_test_matrix = pad_matrix(test_matrix)"
   ]
  },
  {
   "cell_type": "code",
   "execution_count": 18,
   "metadata": {
    "scrolled": true
   },
   "outputs": [
    {
     "data": {
      "text/plain": [
       "(5000, 54, 25)"
      ]
     },
     "execution_count": 18,
     "metadata": {},
     "output_type": "execute_result"
    }
   ],
   "source": [
    "padded_train_matrix.shape"
   ]
  },
  {
   "cell_type": "code",
   "execution_count": 19,
   "metadata": {},
   "outputs": [],
   "source": [
    "def next_batch(num, data, labels):\n",
    "    '''\n",
    "    Return a total of `num` random samples and labels. \n",
    "    '''\n",
    "    idx = np.arange(0 , len(data))\n",
    "    np.random.shuffle(idx)\n",
    "    idx = idx[:num]\n",
    "    data_shuffle = [data[ i] for i in idx]\n",
    "    labels_shuffle = [labels[ i] for i in idx]\n",
    "    return np.asarray(data_shuffle), np.asarray(labels_shuffle)"
   ]
  },
  {
   "cell_type": "code",
   "execution_count": 20,
   "metadata": {},
   "outputs": [],
   "source": [
    "labels = df1['labels']\n",
    "labels_vector = []\n",
    "\n",
    "for i, label in enumerate(labels):\n",
    "    labels_vector.append([label, 1 - label])\n",
    "labels_vector = np.array(labels_vector)"
   ]
  },
  {
   "cell_type": "code",
   "execution_count": null,
   "metadata": {},
   "outputs": [
    {
     "name": "stdout",
     "output_type": "stream",
     "text": [
      "WARNING:tensorflow:From <ipython-input-21-c21161a8164a>:38: softmax_cross_entropy_with_logits (from tensorflow.python.ops.nn_ops) is deprecated and will be removed in a future version.\n",
      "Instructions for updating:\n",
      "\n",
      "Future major versions of TensorFlow will allow gradients to flow\n",
      "into the labels input on backprop by default.\n",
      "\n",
      "See @{tf.nn.softmax_cross_entropy_with_logits_v2}.\n",
      "\n",
      "For iter  10\n"
     ]
    }
   ],
   "source": [
    "tf.reset_default_graph()\n",
    "#define constants\n",
    "#unrolled through 28 time steps\n",
    "time_steps=54\n",
    "#hidden LSTM units\n",
    "num_units=1024\n",
    "#rows of 28 pixels\n",
    "n_input=25\n",
    "#learning rate for adam\n",
    "learning_rate=0.01\n",
    "#mnist is meant to be classified in 10 classes(0-9).\n",
    "n_classes=2\n",
    "#size of batch\n",
    "batch_size=128\n",
    "\n",
    "#weights and biases of appropriate shape to accomplish above task\n",
    "out_weights=tf.Variable(tf.random_normal([num_units,n_classes]))\n",
    "out_bias=tf.Variable(tf.random_normal([n_classes]))\n",
    "\n",
    "#defining placeholders\n",
    "#input image placeholder\n",
    "x=tf.placeholder(\"float\",[None,time_steps,n_input])\n",
    "#input label placeholder\n",
    "y=tf.placeholder(\"float\",[None,n_classes])\n",
    "\n",
    "#processing the input tensor from [batch_size,n_steps,n_input] to \"time_steps\" number of [batch_size,n_input] tensors\n",
    "input=tf.unstack(x ,time_steps,1)\n",
    "\n",
    "#defining the network\n",
    "lstm_layer=rnn.BasicLSTMCell(num_units,forget_bias=1)\n",
    "outputs,_=rnn.static_rnn(lstm_layer,input,dtype=\"float32\")\n",
    "\n",
    "#converting last output of dimension [batch_size,num_units] to [batch_size,n_classes] by out_weight multiplication\n",
    "prediction=tf.matmul(outputs[-1],out_weights)+out_bias\n",
    "test=tf.nn.softmax(prediction)\n",
    "\n",
    "#loss_function\n",
    "loss=tf.reduce_mean(tf.nn.softmax_cross_entropy_with_logits(logits=prediction,labels=y))\n",
    "#optimization\n",
    "opt=tf.train.AdamOptimizer(learning_rate=learning_rate).minimize(loss)\n",
    "\n",
    "#model evaluation\n",
    "correct_prediction=tf.equal(tf.argmax(prediction,1),tf.argmax(y,1))\n",
    "accuracy=tf.reduce_mean(tf.cast(correct_prediction,tf.float32))\n",
    "\n",
    "#initialize variables\n",
    "init=tf.global_variables_initializer()\n",
    "with tf.Session() as sess:\n",
    "    sess.run(init)\n",
    "    iter=1\n",
    "    while iter<500:\n",
    "        batch_x,batch_y=next_batch(batch_size, padded_train_matrix, labels_vector)\n",
    "        sess.run(opt, feed_dict={x: batch_x, y: batch_y})\n",
    "\n",
    "        if iter %10==0:\n",
    "#             acc=sess.run(accuracy,feed_dict={x:batch_x,y:batch_y})\n",
    "#             los=sess.run(loss,feed_dict={x:batch_x,y:batch_y})\n",
    "# #             pred=sess.run(test, feed_dict={x:batch_x,y:batch_y})\n",
    "# #             print(pred)\n",
    "# #             print(batch_y)\n",
    "            print(\"For iter \",iter)\n",
    "#             print(\"Accuracy \",acc)\n",
    "#             print(\"Loss \",los)\n",
    "#             print(\"__________________\")\n",
    "\n",
    "        iter=iter+1\n",
    "    pred=sess.run(test, feed_dict={x:padded_test_matrix})\n",
    "    result = np.array(pred, dtype=np.float)\n",
    "print(\"Done\")"
   ]
  },
  {
   "cell_type": "code",
   "execution_count": null,
   "metadata": {},
   "outputs": [],
   "source": [
    "result.shape\n",
    "a = np.zeros(shape=(1444,3))\n",
    "for i, res in enumerate(result):\n",
    "    a[i] = [i, result[i][1], result[i][0]]"
   ]
  },
  {
   "cell_type": "code",
   "execution_count": null,
   "metadata": {},
   "outputs": [],
   "source": [
    "np.set_printoptions(threshold=np.nan)\n",
    "np.set_printoptions(suppress=True)\n",
    "np.savetxt('test.out', a, delimiter=',', fmt='%1.19f')   # X is an array"
   ]
  }
 ],
 "metadata": {
  "kernelspec": {
   "display_name": "Python 3",
   "language": "python",
   "name": "python3"
  },
  "language_info": {
   "codemirror_mode": {
    "name": "ipython",
    "version": 3
   },
   "file_extension": ".py",
   "mimetype": "text/x-python",
   "name": "python",
   "nbconvert_exporter": "python",
   "pygments_lexer": "ipython3",
   "version": "3.6.5"
  }
 },
 "nbformat": 4,
 "nbformat_minor": 2
}
