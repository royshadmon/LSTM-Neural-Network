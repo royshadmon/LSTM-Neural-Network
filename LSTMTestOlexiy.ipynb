{
 "cells": [
  {
   "cell_type": "code",
   "execution_count": 1,
   "metadata": {},
   "outputs": [
    {
     "name": "stdout",
     "output_type": "stream",
     "text": [
      "[nltk_data] Downloading package punkt to /Users/Alex/nltk_data...\n",
      "[nltk_data]   Package punkt is already up-to-date!\n"
     ]
    },
    {
     "data": {
      "text/plain": [
       "'\\ndf2 = pd.read_table(\\'glove.twitter.27B.25d.txt\\', sep=\" \", index_col=0, header=None, quoting=csv.QUOTE_NONE)\\n\\ndef vectorize(w):\\n  return df2.loc[w].as_matrix()\\n'"
      ]
     },
     "execution_count": 1,
     "metadata": {},
     "output_type": "execute_result"
    }
   ],
   "source": [
    "import numpy as np\n",
    "import matplotlib.pyplot as plt\n",
    "import sklearn\n",
    "import pandas as pd\n",
    "import csv\n",
    "import tensorflow as tf\n",
    "import nltk \n",
    "\n",
    "import gensim as gs\n",
    "\n",
    "from numpy import array\n",
    "from numpy import argmax\n",
    "from sklearn.preprocessing import LabelEncoder\n",
    "from sklearn.preprocessing import OneHotEncoder\n",
    "from tensorflow.contrib import rnn\n",
    "\n",
    "from numpy import array\n",
    "from numpy import argmax\n",
    "from sklearn.preprocessing import LabelEncoder\n",
    "from sklearn.preprocessing import OneHotEncoder\n",
    "\n",
    "nltk.download('punkt')\n",
    "\n",
    "df1 = pd.read_csv('HillaryTrumpTrainWithTags.csv')\n",
    "df2 = pd.read_csv('TrumpHillaryTest.csv')\n",
    "\"\"\"\n",
    "df2 = pd.read_table('glove.twitter.27B.25d.txt', sep=\" \", index_col=0, header=None, quoting=csv.QUOTE_NONE)\n",
    "\n",
    "def vectorize(w):\n",
    "  return df2.loc[w].as_matrix()\n",
    "\"\"\"\n",
    "  "
   ]
  },
  {
   "cell_type": "code",
   "execution_count": 2,
   "metadata": {},
   "outputs": [],
   "source": [
    "def handleToNumber(handle):\n",
    "    if handle == \"realDonaldTrump\":\n",
    "        return 0\n",
    "    else:\n",
    "        return 1"
   ]
  },
  {
   "cell_type": "code",
   "execution_count": 3,
   "metadata": {},
   "outputs": [],
   "source": [
    "df1['tokenized_tweets'] = df1.apply(lambda row: nltk.word_tokenize(row['tweet']), axis=1)\n",
    "df1['labels'] = df1.apply(lambda row: handleToNumber(row['handle']), axis=1)\n",
    "df2['tokenized_tweets'] = df2.apply(lambda row: nltk.word_tokenize(row['tweet']), axis=1)"
   ]
  },
  {
   "cell_type": "code",
   "execution_count": 4,
   "metadata": {},
   "outputs": [],
   "source": [
    "tweets = df1['tokenized_tweets']\n",
    "tweets_test = df2['tokenized_tweets']"
   ]
  },
  {
   "cell_type": "code",
   "execution_count": 5,
   "metadata": {},
   "outputs": [],
   "source": [
    "length = []\n",
    "_ = df1.apply(lambda row: length.append(len(row['tokenized_tweets'])), axis=1)\n",
    "max_length = max(length)"
   ]
  },
  {
   "cell_type": "code",
   "execution_count": 6,
   "metadata": {},
   "outputs": [
    {
     "data": {
      "text/plain": [
       "54"
      ]
     },
     "execution_count": 6,
     "metadata": {},
     "output_type": "execute_result"
    }
   ],
   "source": [
    "max_length"
   ]
  },
  {
   "cell_type": "code",
   "execution_count": 7,
   "metadata": {},
   "outputs": [],
   "source": [
    "vectorizer = gs.models.Word2Vec(df1['tokenized_tweets'].append(df2['tokenized_tweets']) , min_count=1, size = 25, iter = 10)"
   ]
  },
  {
   "cell_type": "code",
   "execution_count": 8,
   "metadata": {},
   "outputs": [],
   "source": [
    "train_matrix = []\n",
    "test_matrix = []\n",
    "\n",
    "for i, tweet in enumerate(tweets):\n",
    "    #print(type(string))\n",
    "    train_matrix.append(vectorizer.wv[tweet])\n",
    "    \n",
    "for i, test_tweet in enumerate(tweets_test):\n",
    "    test_matrix.append(vectorizer.wv[test_tweet])"
   ]
  },
  {
   "cell_type": "code",
   "execution_count": 9,
   "metadata": {},
   "outputs": [],
   "source": [
    "# np.array(train_matrix).reshape(len(train_matrix),1)"
   ]
  },
  {
   "cell_type": "code",
   "execution_count": 10,
   "metadata": {},
   "outputs": [
    {
     "data": {
      "text/plain": [
       "array([[-2.75301766e-02,  2.37620771e-02,  7.10224882e-02,\n",
       "         3.16517174e-01, -9.11614001e-02, -1.87514365e-01,\n",
       "        -2.12408602e-02,  3.19370687e-01,  1.23226792e-01,\n",
       "        -1.45338133e-01,  2.23934904e-01,  4.46902633e-01,\n",
       "         3.74189205e-02,  3.17429677e-02,  6.97335154e-02,\n",
       "        -2.04048201e-01,  5.98485656e-02,  5.37247695e-02,\n",
       "        -2.51924455e-01,  3.35068792e-01,  4.51279022e-02,\n",
       "         1.64801329e-01, -1.90304946e-02, -9.68852954e-04,\n",
       "         1.72028374e-02],\n",
       "       [ 3.77993196e-01, -1.52674508e+00, -7.89127946e-01,\n",
       "         1.53935814e+00, -1.67936459e-01, -8.93275142e-01,\n",
       "        -9.37681437e-01,  1.18657768e+00,  1.30125380e+00,\n",
       "        -1.11688459e+00,  1.58860826e+00,  2.10358500e+00,\n",
       "        -2.74104178e-01,  4.88766819e-01, -2.98717394e-02,\n",
       "        -1.92562401e-01,  3.79370004e-01,  2.40486592e-01,\n",
       "         2.89743003e-02,  1.96531606e+00,  1.46861091e-01,\n",
       "        -5.35180867e-02,  1.27491355e+00, -2.20037985e+00,\n",
       "         4.82255369e-01],\n",
       "       [ 7.43870512e-02, -8.55072662e-02,  5.81494905e-02,\n",
       "         3.26498449e-01, -2.37325907e-01, -2.22109288e-01,\n",
       "        -1.17103539e-01,  2.52851874e-01,  2.94629246e-01,\n",
       "        -1.26343191e-01,  2.40121797e-01,  5.59846342e-01,\n",
       "         1.47408113e-01, -1.28413856e-01, -9.99893695e-02,\n",
       "        -2.14692146e-01,  1.17437206e-01,  2.29507923e-01,\n",
       "        -2.52107978e-01,  3.63741368e-01,  2.69257218e-01,\n",
       "         3.79654825e-01, -1.53736100e-02, -9.05936211e-02,\n",
       "        -8.54022279e-02],\n",
       "       [-1.04804647e+00,  2.69547772e+00,  2.77057552e+00,\n",
       "         1.11114359e+00, -1.28570962e+00, -2.21375227e+00,\n",
       "        -2.34220457e+00,  1.87007415e+00,  8.05336535e-01,\n",
       "        -5.13026059e-01, -4.78636235e-01,  3.15173602e+00,\n",
       "        -9.23198983e-02,  2.89451718e-01, -3.00726628e+00,\n",
       "        -1.50828052e+00,  1.23228645e+00,  1.26675713e+00,\n",
       "         4.13492471e-02,  1.83366144e+00,  1.56401694e+00,\n",
       "         3.02962232e+00, -3.77215862e-01, -1.65889844e-01,\n",
       "        -3.52259398e-01],\n",
       "       [-1.31192595e-01, -1.96019650e-01,  3.24299240e+00,\n",
       "         3.20445156e+00,  2.20838979e-01, -3.32766867e+00,\n",
       "        -1.12258315e+00,  3.12415147e+00,  4.38535899e-01,\n",
       "        -1.30950868e+00,  1.43264532e+00,  3.37484670e+00,\n",
       "         2.20029259e+00,  1.31700948e-01, -3.82419157e+00,\n",
       "        -4.48257923e+00, -9.96917665e-01,  4.24443769e+00,\n",
       "         8.67352188e-01,  1.14872301e+00,  1.64013338e+00,\n",
       "         4.69616801e-01, -1.52589440e+00,  1.82570577e+00,\n",
       "        -4.80474412e-01],\n",
       "       [-1.91538438e-01,  3.08021277e-01,  1.32556701e+00,\n",
       "         1.57873333e+00, -9.14018042e-03, -2.44890618e+00,\n",
       "        -2.66365498e-01,  1.77807832e+00,  2.18444809e-01,\n",
       "         3.64390342e-03,  7.50298560e-01,  7.34926999e-01,\n",
       "         1.16859627e+00,  1.40200663e+00, -2.52769327e+00,\n",
       "        -5.03436089e-01,  5.95943928e-01,  2.78174567e+00,\n",
       "        -1.18996300e-01, -3.19648944e-02,  1.54742038e+00,\n",
       "         2.05547285e+00, -3.49198997e-01,  9.87036467e-01,\n",
       "         1.56043005e+00],\n",
       "       [ 4.73863818e-02, -2.32771747e-02,  1.39533937e-01,\n",
       "         3.57057899e-01, -1.80519208e-01, -3.61350656e-01,\n",
       "        -1.87990308e-01,  3.51856440e-01,  2.07717136e-01,\n",
       "        -2.62733877e-01,  3.17073077e-01,  5.17837822e-01,\n",
       "         7.63270780e-02, -2.12135399e-03, -1.68921262e-01,\n",
       "        -2.46616840e-01,  1.34368584e-01,  2.45294675e-01,\n",
       "         1.13731548e-02,  3.23797733e-01,  8.10846016e-02,\n",
       "         1.85083851e-01,  8.60029384e-02, -2.34837055e-01,\n",
       "        -2.02914495e-02],\n",
       "       [ 8.08659673e-01, -2.97048783e+00, -1.10150087e+00,\n",
       "         3.75657201e-01,  4.89345521e-01, -2.22430444e+00,\n",
       "        -1.82560340e-01, -7.01885968e-02,  6.67958438e-01,\n",
       "        -5.29542804e-01,  2.77401376e+00,  9.78548646e-01,\n",
       "         1.52998412e+00, -1.13784528e+00,  1.03544757e-01,\n",
       "        -9.38682079e-01,  1.25736511e+00,  8.07292581e-01,\n",
       "        -1.89831197e-01,  1.47926140e+00,  1.40525258e+00,\n",
       "        -4.84240592e-01,  2.69371414e+00, -1.66434133e+00,\n",
       "         1.94202161e+00],\n",
       "       [-8.10512975e-02, -2.68795341e-01,  2.02699438e-01,\n",
       "         7.94237554e-01,  7.51383826e-02, -5.93663812e-01,\n",
       "         8.24098215e-02,  8.08100700e-01,  2.61035144e-01,\n",
       "        -1.85135752e-01,  5.36748350e-01,  6.41987205e-01,\n",
       "         3.20876241e-01,  2.77985513e-01, -2.88470834e-02,\n",
       "        -3.22895914e-01,  1.26667723e-01,  4.07802194e-01,\n",
       "        -5.38437068e-01,  6.42813087e-01,  2.11822063e-01,\n",
       "         3.70769978e-01,  1.55201793e-01, -6.23633601e-02,\n",
       "         3.30513567e-01],\n",
       "       [ 1.38598168e+00, -2.43583655e+00, -1.10848773e+00,\n",
       "         1.40157878e+00,  4.93082166e-01, -9.92652476e-01,\n",
       "        -1.28363168e+00,  5.13622820e-01,  1.34772062e+00,\n",
       "        -5.66406369e-01,  1.29302239e+00,  1.87715602e+00,\n",
       "         3.21146309e-01, -6.51659910e-04, -6.76558971e-01,\n",
       "         5.50518274e-01, -8.09065159e-03,  7.53868937e-01,\n",
       "         5.78735232e-01,  1.32359803e+00,  7.00244129e-01,\n",
       "         2.88252626e-02,  1.77188468e+00, -2.07321310e+00,\n",
       "         1.05207574e+00],\n",
       "       [-2.02793288e+00, -3.97413111e+00,  5.51520407e-01,\n",
       "        -7.12441802e-01,  9.83842760e-02, -2.14058995e+00,\n",
       "         3.64873439e-01,  2.61175060e+00, -1.26113737e+00,\n",
       "        -1.29678619e+00,  3.19908953e+00,  4.13489103e+00,\n",
       "        -8.67295563e-01, -1.51042330e+00, -1.82434714e+00,\n",
       "         2.94885159e-01,  2.70778966e+00, -8.52440715e-01,\n",
       "        -1.61881581e-01,  2.14079618e+00,  1.61028481e+00,\n",
       "        -1.14990199e+00, -1.96819484e-01,  2.12799287e+00,\n",
       "         4.31825304e+00],\n",
       "       [ 2.09253645e+00, -1.45276201e+00, -1.00620639e+00,\n",
       "         8.84679615e-01, -2.11543292e-01,  6.55156150e-02,\n",
       "        -1.01359093e+00,  4.39195067e-01,  7.84521818e-01,\n",
       "        -5.19399703e-01,  2.00464845e+00,  1.74584270e+00,\n",
       "        -7.66552091e-01, -3.42864364e-01, -5.75101554e-01,\n",
       "         1.92422378e+00,  4.90093678e-02,  7.97982693e-01,\n",
       "         4.93104041e-01,  1.37855482e+00,  4.64867175e-01,\n",
       "         6.28233373e-01,  2.80489182e+00, -2.66155195e+00,\n",
       "         1.11475897e+00],\n",
       "       [ 8.08659673e-01, -2.97048783e+00, -1.10150087e+00,\n",
       "         3.75657201e-01,  4.89345521e-01, -2.22430444e+00,\n",
       "        -1.82560340e-01, -7.01885968e-02,  6.67958438e-01,\n",
       "        -5.29542804e-01,  2.77401376e+00,  9.78548646e-01,\n",
       "         1.52998412e+00, -1.13784528e+00,  1.03544757e-01,\n",
       "        -9.38682079e-01,  1.25736511e+00,  8.07292581e-01,\n",
       "        -1.89831197e-01,  1.47926140e+00,  1.40525258e+00,\n",
       "        -4.84240592e-01,  2.69371414e+00, -1.66434133e+00,\n",
       "         1.94202161e+00],\n",
       "       [ 1.15351111e-01, -1.55647016e+00, -4.99556810e-01,\n",
       "         1.64739454e+00,  1.18395068e-01, -1.06452656e+00,\n",
       "        -4.57767665e-01,  1.24336565e+00,  8.14535141e-01,\n",
       "        -3.56318623e-01,  2.10891747e+00,  1.58652484e+00,\n",
       "        -2.25281958e-02, -4.45083052e-01, -7.01000571e-01,\n",
       "        -3.96560431e-01,  9.31053102e-01,  8.20707560e-01,\n",
       "         1.88784629e-01,  1.51565599e+00,  7.38169253e-01,\n",
       "        -1.54455975e-01,  1.29372835e+00, -1.66769421e+00,\n",
       "         9.19525087e-01],\n",
       "       [ 7.75918186e-01, -1.57382011e+00, -3.58158886e-01,\n",
       "         7.50005126e-01, -3.52718681e-01, -7.77257562e-01,\n",
       "        -1.44079015e-01,  1.91339776e-01,  5.74447215e-01,\n",
       "         3.91431242e-01,  2.41150141e+00,  1.09973526e+00,\n",
       "        -8.14352572e-01, -7.96578884e-01, -1.27057731e+00,\n",
       "         3.19334298e-01,  1.52537787e+00,  1.29362464e-01,\n",
       "         4.35278118e-01,  8.48712206e-01,  4.72766250e-01,\n",
       "         6.40560612e-02,  1.76612806e+00, -1.59272480e+00,\n",
       "         9.99784529e-01],\n",
       "       [ 1.52051401e+00, -1.94762671e+00, -1.24948859e+00,\n",
       "         1.74579191e+00, -8.74371886e-01,  3.67404491e-01,\n",
       "         2.41071999e-01,  1.37195086e+00,  9.26176846e-01,\n",
       "        -1.32916763e-01,  1.42025471e+00,  1.95755816e+00,\n",
       "         2.49116961e-02, -2.37757787e-01,  7.37284958e-01,\n",
       "         1.01816580e-02,  2.27892235e-01, -1.54436678e-01,\n",
       "        -9.89078104e-01,  2.19245672e+00,  5.78059316e-01,\n",
       "         3.32092822e-01,  1.72694933e+00, -3.10651898e+00,\n",
       "         3.28017771e-01],\n",
       "       [ 2.06606412e+00, -1.83371282e+00, -8.03917468e-01,\n",
       "         3.11394483e-01, -1.07475162e+00, -9.57068264e-01,\n",
       "         1.42971396e+00,  3.74515265e-01,  4.24149007e-01,\n",
       "         2.32335782e+00,  2.83304071e+00,  1.24538898e+00,\n",
       "         8.80099833e-01, -1.56574440e+00, -1.77420819e+00,\n",
       "         1.43247932e-01,  1.19114900e+00,  8.58620942e-01,\n",
       "        -7.24898651e-03,  7.27489471e-01,  2.58847880e+00,\n",
       "         1.55538142e+00,  2.21240973e+00, -4.42237586e-01,\n",
       "         2.03003430e+00],\n",
       "       [ 6.29586220e-01, -1.99935734e+00, -1.33240759e-01,\n",
       "         1.38106799e+00, -2.13866070e-01, -1.09165680e+00,\n",
       "        -8.36073384e-02,  3.99586529e-01,  5.26921570e-01,\n",
       "        -1.13403663e-01,  2.14029574e+00,  8.31251979e-01,\n",
       "        -2.49709085e-01, -3.78094733e-01, -9.66275513e-01,\n",
       "        -3.46608043e-01,  1.09476101e+00,  5.94462693e-01,\n",
       "         8.71181965e-01,  1.38507605e+00,  2.82517701e-01,\n",
       "        -1.53746575e-01,  1.91015649e+00, -1.50914514e+00,\n",
       "         8.17473948e-01],\n",
       "       [ 8.91782343e-01, -8.48623931e-01, -1.31776619e+00,\n",
       "         1.21018231e+00, -4.81832176e-01, -9.21001196e-01,\n",
       "        -7.42494881e-01, -5.34602344e-01,  1.32651496e+00,\n",
       "        -3.23084056e-01,  1.22238898e+00,  7.94280827e-01,\n",
       "         2.61218578e-01,  4.54343557e-01, -1.52930868e+00,\n",
       "         2.82414377e-01,  1.80412984e+00,  3.91360968e-01,\n",
       "         7.57837474e-01,  1.37223351e+00,  1.88609183e+00,\n",
       "         1.77509928e+00,  1.39415586e+00, -1.59876549e+00,\n",
       "         1.59667683e+00],\n",
       "       [-2.45501310e-01,  2.15890378e-01,  4.17894363e-01,\n",
       "         1.53227437e+00, -2.74370790e-01, -1.25401115e+00,\n",
       "        -2.05077585e-02,  1.96040535e+00,  6.63337648e-01,\n",
       "        -5.09899139e-01,  1.11615980e+00,  2.15094566e+00,\n",
       "        -2.44844541e-01,  7.46091843e-01, -1.81034133e-01,\n",
       "        -5.47302246e-01,  2.25677028e-01,  3.76416355e-01,\n",
       "        -1.58773041e+00,  1.36239231e+00,  4.95091021e-01,\n",
       "         1.00932825e+00, -1.74222469e-01,  6.59086257e-02,\n",
       "         5.49430013e-01],\n",
       "       [-1.04804647e+00,  2.69547772e+00,  2.77057552e+00,\n",
       "         1.11114359e+00, -1.28570962e+00, -2.21375227e+00,\n",
       "        -2.34220457e+00,  1.87007415e+00,  8.05336535e-01,\n",
       "        -5.13026059e-01, -4.78636235e-01,  3.15173602e+00,\n",
       "        -9.23198983e-02,  2.89451718e-01, -3.00726628e+00,\n",
       "        -1.50828052e+00,  1.23228645e+00,  1.26675713e+00,\n",
       "         4.13492471e-02,  1.83366144e+00,  1.56401694e+00,\n",
       "         3.02962232e+00, -3.77215862e-01, -1.65889844e-01,\n",
       "        -3.52259398e-01],\n",
       "       [-6.84403479e-02,  2.26804233e+00,  2.90982270e+00,\n",
       "         2.89065981e+00, -2.42719579e+00, -2.11545968e+00,\n",
       "        -8.02128240e-02,  2.46717811e+00,  3.27821827e+00,\n",
       "        -3.62986438e-02,  2.64428020e+00,  2.93430352e+00,\n",
       "         4.12364490e-02, -1.06688774e+00, -1.27076566e+00,\n",
       "        -9.66922343e-01,  1.77583861e+00,  7.23036170e-01,\n",
       "        -2.88304090e+00,  8.74974668e-01,  8.17621231e-01,\n",
       "         2.68576145e+00, -1.54609358e+00,  2.13394329e-01,\n",
       "        -2.13600135e+00],\n",
       "       [-1.04804647e+00,  2.69547772e+00,  2.77057552e+00,\n",
       "         1.11114359e+00, -1.28570962e+00, -2.21375227e+00,\n",
       "        -2.34220457e+00,  1.87007415e+00,  8.05336535e-01,\n",
       "        -5.13026059e-01, -4.78636235e-01,  3.15173602e+00,\n",
       "        -9.23198983e-02,  2.89451718e-01, -3.00726628e+00,\n",
       "        -1.50828052e+00,  1.23228645e+00,  1.26675713e+00,\n",
       "         4.13492471e-02,  1.83366144e+00,  1.56401694e+00,\n",
       "         3.02962232e+00, -3.77215862e-01, -1.65889844e-01,\n",
       "        -3.52259398e-01],\n",
       "       [-2.46806312e-02,  7.38285035e-02,  2.68897600e-02,\n",
       "        -9.19526909e-03,  9.05209035e-03,  2.24509295e-02,\n",
       "         3.13157775e-02,  4.12525173e-04, -1.39918523e-02,\n",
       "         3.23544964e-02, -1.12830084e-02, -6.20379224e-02,\n",
       "         3.34760384e-03,  3.03531736e-02,  1.48882382e-02,\n",
       "         1.71033442e-02,  1.71074141e-02, -1.56148495e-02,\n",
       "        -3.04373614e-02, -3.17294635e-02, -1.24605084e-02,\n",
       "        -6.96334150e-03, -2.72358581e-02,  5.54847941e-02,\n",
       "        -2.41922550e-02]], dtype=float32)"
      ]
     },
     "execution_count": 10,
     "metadata": {},
     "output_type": "execute_result"
    }
   ],
   "source": [
    "train_matrix = np.array(train_matrix)\n",
    "train_matrix[0]\n",
    "\n",
    "test_matrix = np.array(test_matrix)\n",
    "test_matrix[0]"
   ]
  },
  {
   "cell_type": "code",
   "execution_count": 11,
   "metadata": {},
   "outputs": [
    {
     "data": {
      "text/plain": [
       "numpy.ndarray"
      ]
     },
     "execution_count": 11,
     "metadata": {},
     "output_type": "execute_result"
    }
   ],
   "source": [
    "type(train_matrix)"
   ]
  },
  {
   "cell_type": "code",
   "execution_count": 12,
   "metadata": {},
   "outputs": [
    {
     "data": {
      "text/plain": [
       "(5000,)"
      ]
     },
     "execution_count": 12,
     "metadata": {},
     "output_type": "execute_result"
    }
   ],
   "source": [
    "train_matrix.shape"
   ]
  },
  {
   "cell_type": "code",
   "execution_count": 13,
   "metadata": {},
   "outputs": [
    {
     "data": {
      "text/plain": [
       "(23, 25)"
      ]
     },
     "execution_count": 13,
     "metadata": {},
     "output_type": "execute_result"
    }
   ],
   "source": [
    "train_matrix[0].shape"
   ]
  },
  {
   "cell_type": "code",
   "execution_count": 14,
   "metadata": {},
   "outputs": [],
   "source": [
    "twit = train_matrix[4999]"
   ]
  },
  {
   "cell_type": "code",
   "execution_count": 15,
   "metadata": {},
   "outputs": [],
   "source": [
    "def pad(twits):\n",
    "    \"\"\"\n",
    "    Does the padding as many times as required\n",
    "    \"\"\"\n",
    "    l = len(twits)\n",
    "    d= twits.shape[1]\n",
    "    padding = np.zeros(d)\n",
    "    \n",
    "    for i in range(0,max_length-l):\n",
    "        twits = np.append(twits,padding)\n",
    "        \n",
    "    return twits.reshape(max_length,d)"
   ]
  },
  {
   "cell_type": "code",
   "execution_count": 16,
   "metadata": {},
   "outputs": [],
   "source": [
    "def pad_matrix(t_matrix):\n",
    "    \"\"\"\n",
    "    Loops through all the vectorized tweets and calls the pad function on each of them.\n",
    "    \"\"\"\n",
    "    \n",
    "    padded_matrix =[]\n",
    "    for i,vectorized_tweet in enumerate(t_matrix):\n",
    "         padded_matrix.append(pad(vectorized_tweet))\n",
    "    padded_matrix = np.array(padded_matrix)\n",
    "    \n",
    "    return padded_matrix"
   ]
  },
  {
   "cell_type": "code",
   "execution_count": 17,
   "metadata": {},
   "outputs": [],
   "source": [
    "padded_train_matrix = pad_matrix(train_matrix)\n",
    "padded_test_matrix = pad_matrix(test_matrix)"
   ]
  },
  {
   "cell_type": "code",
   "execution_count": 18,
   "metadata": {
    "scrolled": true
   },
   "outputs": [
    {
     "data": {
      "text/plain": [
       "(5000, 54, 25)"
      ]
     },
     "execution_count": 18,
     "metadata": {},
     "output_type": "execute_result"
    }
   ],
   "source": [
    "padded_train_matrix.shape"
   ]
  },
  {
   "cell_type": "code",
   "execution_count": 19,
   "metadata": {},
   "outputs": [],
   "source": [
    "def next_batch(num, data, labels):\n",
    "    '''\n",
    "    Return a total of `num` random samples and labels. \n",
    "    '''\n",
    "    idx = np.arange(0 , len(data))\n",
    "    np.random.shuffle(idx)\n",
    "    idx = idx[:num]\n",
    "    data_shuffle = [data[ i] for i in idx]\n",
    "    labels_shuffle = [labels[ i] for i in idx]\n",
    "    return np.asarray(data_shuffle), np.asarray(labels_shuffle)"
   ]
  },
  {
   "cell_type": "code",
   "execution_count": 20,
   "metadata": {},
   "outputs": [],
   "source": [
    "labels = df1['labels']\n",
    "labels_vector = []\n",
    "\n",
    "for i, label in enumerate(labels):\n",
    "    labels_vector.append([label, 1 - label])\n",
    "labels_vector = np.array(labels_vector)"
   ]
  },
  {
   "cell_type": "code",
   "execution_count": null,
   "metadata": {},
   "outputs": [
    {
     "name": "stdout",
     "output_type": "stream",
     "text": [
      "WARNING:tensorflow:From <ipython-input-21-c21161a8164a>:38: softmax_cross_entropy_with_logits (from tensorflow.python.ops.nn_ops) is deprecated and will be removed in a future version.\n",
      "Instructions for updating:\n",
      "\n",
      "Future major versions of TensorFlow will allow gradients to flow\n",
      "into the labels input on backprop by default.\n",
      "\n",
      "See @{tf.nn.softmax_cross_entropy_with_logits_v2}.\n",
      "\n",
      "For iter  10\n",
      "For iter  20\n"
     ]
    }
   ],
   "source": [
    "tf.reset_default_graph()\n",
    "#define constants\n",
    "#unrolled through 28 time steps\n",
    "time_steps=54\n",
    "#hidden LSTM units\n",
    "num_units=1024\n",
    "#rows of 28 pixels\n",
    "n_input=25\n",
    "#learning rate for adam\n",
    "learning_rate=0.01\n",
    "#mnist is meant to be classified in 10 classes(0-9).\n",
    "n_classes=2\n",
    "#size of batch\n",
    "batch_size=128\n",
    "\n",
    "#weights and biases of appropriate shape to accomplish above task\n",
    "out_weights=tf.Variable(tf.random_normal([num_units,n_classes]))\n",
    "out_bias=tf.Variable(tf.random_normal([n_classes]))\n",
    "\n",
    "#defining placeholders\n",
    "#input image placeholder\n",
    "x=tf.placeholder(\"float\",[None,time_steps,n_input])\n",
    "#input label placeholder\n",
    "y=tf.placeholder(\"float\",[None,n_classes])\n",
    "\n",
    "#processing the input tensor from [batch_size,n_steps,n_input] to \"time_steps\" number of [batch_size,n_input] tensors\n",
    "input=tf.unstack(x ,time_steps,1)\n",
    "\n",
    "#defining the network\n",
    "lstm_layer=rnn.BasicLSTMCell(num_units,forget_bias=1)\n",
    "outputs,_=rnn.static_rnn(lstm_layer,input,dtype=\"float32\")\n",
    "\n",
    "#converting last output of dimension [batch_size,num_units] to [batch_size,n_classes] by out_weight multiplication\n",
    "prediction=tf.matmul(outputs[-1],out_weights)+out_bias\n",
    "test=tf.nn.softmax(prediction)\n",
    "\n",
    "#loss_function\n",
    "loss=tf.reduce_mean(tf.nn.softmax_cross_entropy_with_logits(logits=prediction,labels=y))\n",
    "#optimization\n",
    "opt=tf.train.AdamOptimizer(learning_rate=learning_rate).minimize(loss)\n",
    "\n",
    "#model evaluation\n",
    "correct_prediction=tf.equal(tf.argmax(prediction,1),tf.argmax(y,1))\n",
    "accuracy=tf.reduce_mean(tf.cast(correct_prediction,tf.float32))\n",
    "\n",
    "#initialize variables\n",
    "init=tf.global_variables_initializer()\n",
    "with tf.Session() as sess:\n",
    "    sess.run(init)\n",
    "    iter=1\n",
    "    while iter<500:\n",
    "        batch_x,batch_y=next_batch(batch_size, padded_train_matrix, labels_vector)\n",
    "        sess.run(opt, feed_dict={x: batch_x, y: batch_y})\n",
    "\n",
    "        if iter %10==0:\n",
    "#             acc=sess.run(accuracy,feed_dict={x:batch_x,y:batch_y})\n",
    "#             los=sess.run(loss,feed_dict={x:batch_x,y:batch_y})\n",
    "# #             pred=sess.run(test, feed_dict={x:batch_x,y:batch_y})\n",
    "# #             print(pred)\n",
    "# #             print(batch_y)\n",
    "            print(\"For iter \",iter)\n",
    "#             print(\"Accuracy \",acc)\n",
    "#             print(\"Loss \",los)\n",
    "#             print(\"__________________\")\n",
    "\n",
    "        iter=iter+1\n",
    "    pred=sess.run(test, feed_dict={x:padded_test_matrix})\n",
    "    result = np.array(pred, dtype=np.float)\n",
    "print(\"Done\")"
   ]
  },
  {
   "cell_type": "code",
   "execution_count": null,
   "metadata": {},
   "outputs": [],
   "source": [
    "result.shape\n",
    "a = np.zeros(shape=(1444,3))\n",
    "for i, res in enumerate(result):\n",
    "    a[i] = [i, result[i][1], result[i][0]]"
   ]
  },
  {
   "cell_type": "code",
   "execution_count": null,
   "metadata": {},
   "outputs": [],
   "source": [
    "np.set_printoptions(threshold=np.nan)\n",
    "np.set_printoptions(suppress=True)\n",
    "np.savetxt('test.out', a, delimiter=',', fmt='%1.19f')   # X is an array"
   ]
  }
 ],
 "metadata": {
  "kernelspec": {
   "display_name": "Python 3",
   "language": "python",
   "name": "python3"
  },
  "language_info": {
   "codemirror_mode": {
    "name": "ipython",
    "version": 3
   },
   "file_extension": ".py",
   "mimetype": "text/x-python",
   "name": "python",
   "nbconvert_exporter": "python",
   "pygments_lexer": "ipython3",
   "version": "3.6.5"
  }
 },
 "nbformat": 4,
 "nbformat_minor": 2
}
