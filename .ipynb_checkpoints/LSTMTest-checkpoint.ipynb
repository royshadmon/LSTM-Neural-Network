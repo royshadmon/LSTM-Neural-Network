{
 "cells": [
  {
   "cell_type": "code",
   "execution_count": 2,
   "metadata": {},
   "outputs": [
    {
     "name": "stdout",
     "output_type": "stream",
     "text": [
      "[nltk_data] Downloading package punkt to /home/karthik/nltk_data...\n",
      "[nltk_data]   Package punkt is already up-to-date!\n"
     ]
    },
    {
     "data": {
      "text/plain": [
       "'\\ndf2 = pd.read_table(\\'glove.twitter.27B.25d.txt\\', sep=\" \", index_col=0, header=None, quoting=csv.QUOTE_NONE)\\n\\ndef vectorize(w):\\n  return df2.loc[w].as_matrix()\\n'"
      ]
     },
     "execution_count": 2,
     "metadata": {},
     "output_type": "execute_result"
    }
   ],
   "source": [
    "import numpy as np\n",
    "import matplotlib.pyplot as plt\n",
    "import sklearn\n",
    "import pandas as pd\n",
    "import csv\n",
    "import tensorflow as tf\n",
    "import nltk \n",
    "\n",
    "import gensim as gs\n",
    "\n",
    "from numpy import array\n",
    "from numpy import argmax\n",
    "from sklearn.preprocessing import LabelEncoder\n",
    "from sklearn.preprocessing import OneHotEncoder\n",
    "from tensorflow.contrib import rnn\n",
    "\n",
    "from numpy import array\n",
    "from numpy import argmax\n",
    "from sklearn.preprocessing import LabelEncoder\n",
    "from sklearn.preprocessing import OneHotEncoder\n",
    "\n",
    "nltk.download('punkt')\n",
    "\n",
    "df1 = pd.read_csv('HillaryTrumpTrainWithTags.csv')\n",
    "df2 = pd.read_csv('TrumpHillaryTest.csv')\n",
    "\"\"\"\n",
    "df2 = pd.read_table('glove.twitter.27B.25d.txt', sep=\" \", index_col=0, header=None, quoting=csv.QUOTE_NONE)\n",
    "\n",
    "def vectorize(w):\n",
    "  return df2.loc[w].as_matrix()\n",
    "\"\"\"\n",
    "  "
   ]
  },
  {
   "cell_type": "code",
   "execution_count": 3,
   "metadata": {},
   "outputs": [],
   "source": [
    "def handleToNumber(handle):\n",
    "    if handle == \"realDonaldTrump\":\n",
    "        return 0\n",
    "    else:\n",
    "        return 1"
   ]
  },
  {
   "cell_type": "code",
   "execution_count": 4,
   "metadata": {},
   "outputs": [],
   "source": [
    "df1['tokenized_tweets'] = df1.apply(lambda row: nltk.word_tokenize(row['tweet']), axis=1)\n",
    "df1['labels'] = df1.apply(lambda row: handleToNumber(row['handle']), axis=1)\n",
    "df2['tokenized_tweets'] = df2.apply(lambda row: nltk.word_tokenize(row['tweet']), axis=1)"
   ]
  },
  {
   "cell_type": "code",
   "execution_count": 5,
   "metadata": {},
   "outputs": [],
   "source": [
    "tweets = df1['tokenized_tweets']\n",
    "tweets_test = df2['tokenized_tweets']"
   ]
  },
  {
   "cell_type": "code",
   "execution_count": 6,
   "metadata": {},
   "outputs": [],
   "source": [
    "length = []\n",
    "_ = df1.apply(lambda row: length.append(len(row['tokenized_tweets'])), axis=1)\n",
    "max_length = max(length)"
   ]
  },
  {
   "cell_type": "code",
   "execution_count": 7,
   "metadata": {},
   "outputs": [
    {
     "data": {
      "text/plain": [
       "54"
      ]
     },
     "execution_count": 7,
     "metadata": {},
     "output_type": "execute_result"
    }
   ],
   "source": [
    "max_length"
   ]
  },
  {
   "cell_type": "code",
   "execution_count": 8,
   "metadata": {},
   "outputs": [],
   "source": [
    "vectorizer = gs.models.Word2Vec(df1['tokenized_tweets'].append(df2['tokenized_tweets']) , min_count=1, size = 25, iter = 10)"
   ]
  },
  {
   "cell_type": "code",
   "execution_count": 9,
   "metadata": {},
   "outputs": [],
   "source": [
    "train_matrix = []\n",
    "\n",
    "for i, tweet in enumerate(tweets):\n",
    "    #print(type(string))\n",
    "    train_matrix.append(vectorizer.wv[tweet])"
   ]
  },
  {
   "cell_type": "code",
   "execution_count": 10,
   "metadata": {},
   "outputs": [],
   "source": [
    "# np.array(train_matrix).reshape(len(train_matrix),1)"
   ]
  },
  {
   "cell_type": "code",
   "execution_count": 11,
   "metadata": {},
   "outputs": [
    {
     "data": {
      "text/plain": [
       "array([[-1.58183932e+00,  3.93064439e-01, -1.73223857e-02,\n",
       "         9.42823350e-01, -5.65229177e-01,  4.58211750e-01,\n",
       "         8.46667051e-01, -7.74926841e-01,  1.54587805e+00,\n",
       "         2.06330135e-01,  4.89040941e-01,  4.75650758e-01,\n",
       "         4.91971254e-01,  2.34208441e+00,  5.39834023e-01,\n",
       "        -2.36659691e-01,  3.51655960e-01,  5.42015672e-01,\n",
       "         4.18837368e-02,  1.12599874e+00, -8.10062826e-01,\n",
       "        -1.50215256e+00, -1.44971877e-01,  5.19387424e-01,\n",
       "        -1.09239936e+00],\n",
       "       [-2.79682159e-01,  3.09034139e-01, -2.07743198e-01,\n",
       "         3.39108668e-02, -1.16146579e-01,  4.80096489e-01,\n",
       "         2.17142448e-01, -5.43578029e-01,  1.18776031e-01,\n",
       "         4.22277868e-01,  3.24769825e-01,  1.05622850e-01,\n",
       "         3.42921436e-01,  4.21388924e-01,  1.01655968e-01,\n",
       "        -1.94311827e-01,  3.56172889e-01,  1.49607599e-01,\n",
       "        -3.80931646e-02,  8.68574381e-02, -1.28277615e-01,\n",
       "        -3.73698056e-01, -6.00529537e-02,  2.55790412e-01,\n",
       "        -4.72148806e-01],\n",
       "       [-2.46004629e+00,  1.22841394e+00, -7.52299502e-02,\n",
       "         7.84587026e-01,  7.37043202e-01, -3.44687343e-01,\n",
       "        -3.29345912e-01, -1.72079623e+00,  3.31167197e+00,\n",
       "        -1.12260640e+00,  3.84558529e-01,  2.44955063e-01,\n",
       "        -4.50413227e-01,  2.83772492e+00,  6.51413858e-01,\n",
       "        -1.21476781e+00,  8.80687177e-01, -1.10502385e-01,\n",
       "         1.87409148e-01,  1.02369356e+00, -1.23446333e+00,\n",
       "        -1.31366146e+00,  8.47159564e-01,  1.27876961e+00,\n",
       "        -9.05438364e-01],\n",
       "       [-2.06879199e-01,  1.90813616e-01, -5.18783517e-02,\n",
       "         6.93307370e-02,  9.87413451e-02,  1.74647376e-01,\n",
       "         3.30005959e-02, -2.40775704e-01,  2.16200590e-01,\n",
       "         3.85410860e-02,  1.39883906e-01, -5.62642841e-03,\n",
       "         5.62916137e-02,  2.82532692e-01,  7.87323117e-02,\n",
       "        -9.72791687e-02,  1.35170609e-01,  1.07748210e-01,\n",
       "         5.55532286e-03,  8.12900141e-02, -1.78085148e-01,\n",
       "        -1.83116153e-01, -4.56756279e-02,  2.38175821e-02,\n",
       "        -1.85113639e-01],\n",
       "       [-4.59806859e-01,  8.66383731e-01, -7.86764801e-01,\n",
       "         4.02931064e-01,  3.15637112e-01,  7.59611666e-01,\n",
       "         5.86580560e-02, -9.81261075e-01,  9.33780909e-01,\n",
       "         6.05979264e-01,  5.38313985e-01,  4.79523003e-01,\n",
       "         7.13013411e-01,  4.18976426e-01,  5.47079384e-01,\n",
       "        -4.88293707e-01,  1.64712358e+00, -2.40070701e-01,\n",
       "        -2.65736043e-01,  4.56623018e-01, -5.07391989e-01,\n",
       "        -6.49694800e-01,  2.00184956e-01, -4.49411184e-01,\n",
       "        -1.10887480e+00],\n",
       "       [-3.48757958e+00,  4.09614515e+00,  2.39182210e+00,\n",
       "        -8.67885113e-01,  3.07023382e+00,  2.29006600e+00,\n",
       "         1.45326936e+00, -7.16783464e-01,  1.80482280e+00,\n",
       "        -9.61544096e-01, -2.44883269e-01,  1.10211182e+00,\n",
       "         2.37925553e+00,  6.52018547e-01,  1.83856618e+00,\n",
       "         4.88865614e-01,  1.67600417e+00, -3.95407498e-01,\n",
       "        -1.30920041e+00,  3.02456903e+00, -3.19556999e+00,\n",
       "        -6.16838753e-01, -2.57697940e+00,  2.07864717e-01,\n",
       "        -3.45700336e+00],\n",
       "       [-4.55033970e+00,  2.03561354e+00,  9.51242149e-01,\n",
       "         7.95843601e-02, -3.47190976e-01,  1.05592680e+00,\n",
       "         1.25649238e+00, -2.49842238e+00,  2.47034645e+00,\n",
       "        -3.44894028e+00,  2.24057436e-01,  5.17989218e-01,\n",
       "         3.40739280e-01,  1.91462100e+00,  4.39496934e-01,\n",
       "        -1.33904409e+00,  4.76786017e-01,  7.87657559e-01,\n",
       "         2.55827355e+00,  1.37738943e+00, -1.53924453e+00,\n",
       "         5.24388134e-01, -1.54169217e-01,  5.27638793e-01,\n",
       "        -8.92448604e-01],\n",
       "       [-2.05309010e+00,  3.17287755e+00,  5.56981206e-01,\n",
       "        -5.63291490e-01,  1.01786304e+00,  5.45254886e-01,\n",
       "         2.90445477e-01, -2.25185347e+00,  3.52032399e+00,\n",
       "        -1.51465619e+00, -1.10810101e+00,  9.69024241e-01,\n",
       "         8.18626881e-01,  3.22180581e+00,  1.29719460e+00,\n",
       "        -1.58181632e+00,  1.92241967e+00,  1.40363252e+00,\n",
       "         1.23384976e+00,  1.33035529e+00, -2.56943083e+00,\n",
       "        -9.64529067e-02, -1.13340688e+00,  2.02723831e-01,\n",
       "        -1.73877433e-01],\n",
       "       [-2.03511429e+00,  1.15234780e+00,  2.23969147e-01,\n",
       "        -4.49480444e-01, -3.10552537e-01,  9.27960873e-02,\n",
       "         3.02938763e-02, -3.37361693e+00,  2.20176435e+00,\n",
       "        -1.98395002e+00,  8.85792151e-02, -1.47671774e-01,\n",
       "        -2.42683247e-01,  3.66796064e+00, -6.11245513e-01,\n",
       "        -2.23436213e+00,  9.53108132e-01,  2.41812658e+00,\n",
       "         1.01196682e+00,  7.57696152e-01, -8.79741311e-01,\n",
       "        -7.43083060e-01, -3.34453434e-01,  1.68227804e+00,\n",
       "         1.01830818e-01],\n",
       "       [-3.94650626e+00,  3.45484233e+00,  2.90295720e-01,\n",
       "        -7.46937215e-01, -6.29937053e-01,  9.86575902e-01,\n",
       "         5.88961661e-01, -2.82149577e+00,  2.66515589e+00,\n",
       "        -3.48956674e-01, -6.74137950e-01,  3.38733464e-01,\n",
       "         9.24250782e-01,  2.91697240e+00,  1.85023606e-01,\n",
       "        -1.18255413e+00,  1.74156860e-01,  1.74621475e+00,\n",
       "         2.41627192e+00, -2.70988084e-02, -2.15017986e+00,\n",
       "         1.52854371e+00, -1.77944648e+00,  1.81112289e+00,\n",
       "         6.25048995e-01],\n",
       "       [-1.63326278e-01,  2.02766851e-01,  7.56742284e-02,\n",
       "         9.74006206e-02,  1.41805515e-01, -6.62780255e-02,\n",
       "         5.04245572e-02,  4.31278273e-02,  1.32737651e-01,\n",
       "        -3.20255496e-02,  2.67319307e-02,  6.57004192e-02,\n",
       "         1.14801545e-02, -5.51138595e-02, -4.72777709e-02,\n",
       "        -7.88164809e-02,  7.58831203e-02,  6.77331239e-02,\n",
       "         1.60297483e-01,  7.95360431e-02, -5.81591316e-02,\n",
       "         1.12055950e-01, -1.15191922e-01, -1.53681099e-01,\n",
       "         1.51684685e-02],\n",
       "       [-2.07118064e-01,  2.10281804e-01, -8.62614736e-02,\n",
       "        -1.13400809e-01,  7.09659383e-02,  2.19955489e-01,\n",
       "         4.64848876e-02, -3.41593891e-01,  2.23255321e-01,\n",
       "        -8.21745954e-03,  1.01818405e-01,  2.42944118e-02,\n",
       "         1.45338103e-01,  2.11708620e-01,  1.31726991e-02,\n",
       "        -1.72348797e-01,  2.81146854e-01,  5.66903278e-02,\n",
       "         6.08243309e-02,  2.09613983e-03, -1.23299219e-01,\n",
       "        -9.11224037e-02, -9.08096042e-03,  9.22945365e-02,\n",
       "        -1.07896775e-01],\n",
       "       [-4.65567064e+00,  2.42776465e+00,  1.54652381e+00,\n",
       "         1.07330513e+00,  1.87071729e-02, -2.75484324e-01,\n",
       "         3.67645651e-01, -1.77294111e+00,  3.46822476e+00,\n",
       "        -2.37802792e+00, -9.61835027e-01,  1.16571069e-01,\n",
       "        -6.10653579e-01,  4.05188704e+00, -3.21439534e-01,\n",
       "        -8.68676960e-01, -2.89435387e-01,  2.86552811e+00,\n",
       "         2.06968236e+00,  1.90687525e+00, -2.98774314e+00,\n",
       "        -3.46591413e-01, -1.48439229e+00,  3.50465029e-01,\n",
       "         3.14744771e-01],\n",
       "       [-3.01513171e+00,  2.72952676e+00, -5.67888804e-02,\n",
       "         1.24280572e+00,  2.79636651e-01, -5.28077364e-01,\n",
       "         1.18082869e+00, -6.74466670e-01,  3.11737156e+00,\n",
       "        -6.34296894e-01,  5.10498524e-01,  7.25772262e-01,\n",
       "         4.55564380e-01,  2.02796030e+00,  1.17136002e+00,\n",
       "        -9.20865238e-01,  1.07792115e+00,  7.25521386e-01,\n",
       "         1.14099050e+00,  1.07931530e+00, -1.72757125e+00,\n",
       "        -5.34694254e-01, -1.04507446e+00, -1.62979531e+00,\n",
       "        -8.59509408e-01],\n",
       "       [-4.55033970e+00,  2.03561354e+00,  9.51242149e-01,\n",
       "         7.95843601e-02, -3.47190976e-01,  1.05592680e+00,\n",
       "         1.25649238e+00, -2.49842238e+00,  2.47034645e+00,\n",
       "        -3.44894028e+00,  2.24057436e-01,  5.17989218e-01,\n",
       "         3.40739280e-01,  1.91462100e+00,  4.39496934e-01,\n",
       "        -1.33904409e+00,  4.76786017e-01,  7.87657559e-01,\n",
       "         2.55827355e+00,  1.37738943e+00, -1.53924453e+00,\n",
       "         5.24388134e-01, -1.54169217e-01,  5.27638793e-01,\n",
       "        -8.92448604e-01],\n",
       "       [-9.22721744e-01,  2.56291103e+00,  1.04189441e-01,\n",
       "        -1.17336601e-01, -2.12361979e+00,  2.74591541e+00,\n",
       "         2.92138076e+00, -2.71329379e+00, -9.34816241e-01,\n",
       "         2.62130094e+00,  1.98002481e+00,  5.48137784e-01,\n",
       "         1.66680098e+00,  9.47039604e-01,  1.13204575e+00,\n",
       "         9.91030216e-01,  2.74388933e+00,  7.42630601e-01,\n",
       "        -9.76097226e-01, -1.00599304e-02,  5.60402691e-01,\n",
       "        -1.00133967e+00, -8.26411784e-01,  1.79800725e+00,\n",
       "        -1.09416449e+00],\n",
       "       [-1.52271116e+00,  9.15378571e-01, -1.79540646e+00,\n",
       "        -9.23454762e-01, -8.78983378e-01,  4.11278248e+00,\n",
       "         7.62794614e-01, -2.21340275e+00, -1.18615055e+00,\n",
       "         3.40607381e+00,  3.34288526e+00, -6.94426835e-01,\n",
       "         2.84193921e+00,  1.61630237e+00, -4.48926806e-01,\n",
       "        -9.43358243e-01,  4.54430819e+00,  1.75201488e+00,\n",
       "        -6.26752734e-01,  2.77853131e-01, -5.97442389e-01,\n",
       "        -1.56618345e+00,  3.16551566e-01,  1.68789834e-01,\n",
       "        -3.67419410e+00],\n",
       "       [-1.75502503e+00,  1.90807927e+00, -2.00376773e+00,\n",
       "        -3.51295114e-01, -2.00701737e+00,  3.59068727e+00,\n",
       "         3.05895615e+00, -3.43495369e+00, -1.25627697e+00,\n",
       "         3.20858097e+00,  1.40809786e+00, -9.58586216e-01,\n",
       "         1.71194994e+00,  7.11870015e-01,  1.05774701e+00,\n",
       "         2.70977354e+00,  2.20884991e+00,  6.99895203e-01,\n",
       "         1.80479777e+00, -6.93849385e-01,  5.70850968e-01,\n",
       "         2.61161864e-01, -6.53690636e-01,  1.24200451e+00,\n",
       "        -3.45769048e+00],\n",
       "       [-2.03852558e+00,  1.73909962e+00, -1.27634895e+00,\n",
       "        -1.67667460e+00, -1.23095560e+00,  3.77321148e+00,\n",
       "         1.61364949e+00, -2.70218873e+00, -2.11941436e-01,\n",
       "         2.61120558e+00,  2.58912253e+00, -5.00815034e-01,\n",
       "         1.79196453e+00,  1.44802654e+00,  4.47201431e-01,\n",
       "        -1.68089256e-01,  4.28070450e+00,  8.95372033e-01,\n",
       "        -6.57749295e-01, -2.85221189e-01, -8.61532986e-01,\n",
       "        -1.57583952e+00,  3.73034626e-01,  7.04782903e-01,\n",
       "        -2.96915936e+00],\n",
       "       [-1.75922239e+00,  1.97279119e+00, -6.54174447e-01,\n",
       "        -1.06572783e+00,  8.73509467e-01,  2.36226583e+00,\n",
       "         6.38295352e-01, -2.37645841e+00,  1.45825875e+00,\n",
       "         9.19515133e-01,  2.64668179e+00, -3.90931278e-01,\n",
       "         1.09117854e+00, -1.96024492e-01, -1.33251309e-01,\n",
       "        -1.55955946e+00,  3.25736094e+00,  8.91335845e-01,\n",
       "        -5.85118890e-01,  1.26731887e-01, -5.93015611e-01,\n",
       "        -2.37495399e+00,  5.37177622e-01, -3.23517114e-01,\n",
       "        -2.44168139e+00],\n",
       "       [-9.22721744e-01,  2.56291103e+00,  1.04189441e-01,\n",
       "        -1.17336601e-01, -2.12361979e+00,  2.74591541e+00,\n",
       "         2.92138076e+00, -2.71329379e+00, -9.34816241e-01,\n",
       "         2.62130094e+00,  1.98002481e+00,  5.48137784e-01,\n",
       "         1.66680098e+00,  9.47039604e-01,  1.13204575e+00,\n",
       "         9.91030216e-01,  2.74388933e+00,  7.42630601e-01,\n",
       "        -9.76097226e-01, -1.00599304e-02,  5.60402691e-01,\n",
       "        -1.00133967e+00, -8.26411784e-01,  1.79800725e+00,\n",
       "        -1.09416449e+00],\n",
       "       [-2.05538130e+00,  1.09172642e+00, -1.31531382e+00,\n",
       "        -5.06304026e-01, -1.50302172e+00,  2.69755435e+00,\n",
       "         6.96155369e-01, -1.29831362e+00, -2.38016987e+00,\n",
       "         2.37866473e+00,  1.54369903e+00, -1.58520234e+00,\n",
       "         3.22564769e+00,  2.37161088e+00, -8.81913304e-02,\n",
       "         8.92122507e-01,  2.35876703e+00,  3.00950623e+00,\n",
       "         2.05223560e-01,  1.29745340e+00,  1.18524559e-01,\n",
       "         1.24812567e+00, -1.33893996e-01,  5.26243567e-01,\n",
       "        -1.91435146e+00],\n",
       "       [-1.75502503e+00,  1.90807927e+00, -2.00376773e+00,\n",
       "        -3.51295114e-01, -2.00701737e+00,  3.59068727e+00,\n",
       "         3.05895615e+00, -3.43495369e+00, -1.25627697e+00,\n",
       "         3.20858097e+00,  1.40809786e+00, -9.58586216e-01,\n",
       "         1.71194994e+00,  7.11870015e-01,  1.05774701e+00,\n",
       "         2.70977354e+00,  2.20884991e+00,  6.99895203e-01,\n",
       "         1.80479777e+00, -6.93849385e-01,  5.70850968e-01,\n",
       "         2.61161864e-01, -6.53690636e-01,  1.24200451e+00,\n",
       "        -3.45769048e+00]], dtype=float32)"
      ]
     },
     "execution_count": 11,
     "metadata": {},
     "output_type": "execute_result"
    }
   ],
   "source": [
    "train_matrix = np.array(train_matrix)\n",
    "train_matrix[0]"
   ]
  },
  {
   "cell_type": "code",
   "execution_count": 12,
   "metadata": {},
   "outputs": [
    {
     "data": {
      "text/plain": [
       "numpy.ndarray"
      ]
     },
     "execution_count": 12,
     "metadata": {},
     "output_type": "execute_result"
    }
   ],
   "source": [
    "type(train_matrix)"
   ]
  },
  {
   "cell_type": "code",
   "execution_count": 13,
   "metadata": {},
   "outputs": [
    {
     "data": {
      "text/plain": [
       "(5000,)"
      ]
     },
     "execution_count": 13,
     "metadata": {},
     "output_type": "execute_result"
    }
   ],
   "source": [
    "train_matrix.shape"
   ]
  },
  {
   "cell_type": "code",
   "execution_count": 14,
   "metadata": {},
   "outputs": [
    {
     "data": {
      "text/plain": [
       "(23, 25)"
      ]
     },
     "execution_count": 14,
     "metadata": {},
     "output_type": "execute_result"
    }
   ],
   "source": [
    "train_matrix[0].shape"
   ]
  },
  {
   "cell_type": "code",
   "execution_count": 15,
   "metadata": {},
   "outputs": [],
   "source": [
    "twit = train_matrix[4999]"
   ]
  },
  {
   "cell_type": "code",
   "execution_count": 16,
   "metadata": {},
   "outputs": [],
   "source": [
    "def pad(twits):\n",
    "    \"\"\"\n",
    "    Does the padding as many times as required\n",
    "    \"\"\"\n",
    "    l = len(twits)\n",
    "    d= twits.shape[1]\n",
    "    padding = np.zeros(d)\n",
    "    \n",
    "    for i in range(0,max_length-l):\n",
    "        twits = np.append(twits,padding)\n",
    "        \n",
    "    return twits.reshape(max_length,d)"
   ]
  },
  {
   "cell_type": "code",
   "execution_count": 17,
   "metadata": {},
   "outputs": [],
   "source": [
    "def pad_matrix(t_matrix):\n",
    "    \"\"\"\n",
    "    Loops through all the vectorized tweets and calls the pad function on each of them.\n",
    "    \"\"\"\n",
    "    \n",
    "    padded_matrix =[]\n",
    "    for i,vectorized_tweet in enumerate(t_matrix):\n",
    "         padded_matrix.append(pad(vectorized_tweet))\n",
    "    padded_matrix = np.array(padded_matrix)\n",
    "    \n",
    "    return padded_matrix"
   ]
  },
  {
   "cell_type": "code",
   "execution_count": 18,
   "metadata": {},
   "outputs": [],
   "source": [
    "padded_train_matrix = pad_matrix(train_matrix)"
   ]
  },
  {
   "cell_type": "code",
   "execution_count": 19,
   "metadata": {
    "scrolled": true
   },
   "outputs": [
    {
     "data": {
      "text/plain": [
       "(5000, 54, 25)"
      ]
     },
     "execution_count": 19,
     "metadata": {},
     "output_type": "execute_result"
    }
   ],
   "source": [
    "padded_train_matrix.shape"
   ]
  },
  {
   "cell_type": "code",
   "execution_count": 20,
   "metadata": {},
   "outputs": [],
   "source": [
    "def next_batch(num, data, labels):\n",
    "    '''\n",
    "    Return a total of `num` random samples and labels. \n",
    "    '''\n",
    "    idx = np.arange(0 , len(data))\n",
    "    np.random.shuffle(idx)\n",
    "    idx = idx[:num]\n",
    "    data_shuffle = [data[ i] for i in idx]\n",
    "    labels_shuffle = [labels[ i] for i in idx]\n",
    "    return np.asarray(data_shuffle), np.asarray(labels_shuffle)"
   ]
  },
  {
   "cell_type": "code",
   "execution_count": 21,
   "metadata": {},
   "outputs": [],
   "source": [
    "labels = df1['labels']\n",
    "labels_vector = []\n",
    "\n",
    "for i, label in enumerate(labels):\n",
    "    labels_vector.append([label, 1 - label])\n",
    "labels_vector = np.array(labels_vector)"
   ]
  },
  {
   "cell_type": "code",
   "execution_count": null,
   "metadata": {},
   "outputs": [
    {
     "name": "stdout",
     "output_type": "stream",
     "text": [
      "WARNING:tensorflow:From <ipython-input-22-89176bfdc1b6>:36: softmax_cross_entropy_with_logits (from tensorflow.python.ops.nn_ops) is deprecated and will be removed in a future version.\n",
      "Instructions for updating:\n",
      "\n",
      "Future major versions of TensorFlow will allow gradients to flow\n",
      "into the labels input on backprop by default.\n",
      "\n",
      "See @{tf.nn.softmax_cross_entropy_with_logits_v2}.\n",
      "\n"
     ]
    }
   ],
   "source": [
    "#define constants\n",
    "#unrolled through 28 time steps\n",
    "time_steps=54\n",
    "#hidden LSTM units\n",
    "num_units=128\n",
    "#rows of 28 pixels\n",
    "n_input=25\n",
    "#learning rate for adam\n",
    "learning_rate=0.001\n",
    "#mnist is meant to be classified in 10 classes(0-9).\n",
    "n_classes=2\n",
    "#size of batch\n",
    "batch_size=128\n",
    "\n",
    "#weights and biases of appropriate shape to accomplish above task\n",
    "out_weights=tf.Variable(tf.random_normal([num_units,n_classes]))\n",
    "out_bias=tf.Variable(tf.random_normal([n_classes]))\n",
    "\n",
    "#defining placeholders\n",
    "#input image placeholder\n",
    "x=tf.placeholder(\"float\",[None,time_steps,n_input])\n",
    "#input label placeholder\n",
    "y=tf.placeholder(\"float\",[None,n_classes])\n",
    "\n",
    "#processing the input tensor from [batch_size,n_steps,n_input] to \"time_steps\" number of [batch_size,n_input] tensors\n",
    "input=tf.unstack(x ,time_steps,1)\n",
    "\n",
    "#defining the network\n",
    "lstm_layer=rnn.BasicLSTMCell(num_units,forget_bias=1)\n",
    "outputs,_=rnn.static_rnn(lstm_layer,input,dtype=\"float32\")\n",
    "\n",
    "#converting last output of dimension [batch_size,num_units] to [batch_size,n_classes] by out_weight multiplication\n",
    "prediction=tf.matmul(outputs[-1],out_weights)+out_bias\n",
    "\n",
    "#loss_function\n",
    "loss=tf.reduce_mean(tf.nn.softmax_cross_entropy_with_logits(logits=prediction,labels=y))\n",
    "#optimization\n",
    "opt=tf.train.AdamOptimizer(learning_rate=learning_rate).minimize(loss)\n",
    "\n",
    "#model evaluation\n",
    "correct_prediction=tf.equal(tf.argmax(prediction,1),tf.argmax(y,1))\n",
    "accuracy=tf.reduce_mean(tf.cast(correct_prediction,tf.float32))\n",
    "\n",
    "#initialize variables\n",
    "init=tf.global_variables_initializer()\n",
    "with tf.Session() as sess:\n",
    "    sess.run(init)\n",
    "    iter=1\n",
    "    while iter<800:\n",
    "        batch_x,batch_y=next_batch(batch_size, padded_train_matrix, labels_vector)\n",
    "        sess.run(opt, feed_dict={x: batch_x, y: batch_y})\n",
    "\n",
    "        if iter %10==0:\n",
    "            acc=sess.run(accuracy,feed_dict={x:batch_x,y:batch_y})\n",
    "            los=sess.run(loss,feed_dict={x:batch_x,y:batch_y})\n",
    "            print(\"For iter \",iter)\n",
    "            print(\"Accuracy \",acc)\n",
    "            print(\"Loss \",los)\n",
    "            print(\"__________________\")\n",
    "\n",
    "        iter=iter+1"
   ]
  },
  {
   "cell_type": "code",
   "execution_count": null,
   "metadata": {},
   "outputs": [],
   "source": []
  },
  {
   "cell_type": "code",
   "execution_count": null,
   "metadata": {},
   "outputs": [],
   "source": []
  }
 ],
 "metadata": {
  "kernelspec": {
   "display_name": "Python 3",
   "language": "python",
   "name": "python3"
  },
  "language_info": {
   "codemirror_mode": {
    "name": "ipython",
    "version": 3
   },
   "file_extension": ".py",
   "mimetype": "text/x-python",
   "name": "python",
   "nbconvert_exporter": "python",
   "pygments_lexer": "ipython3",
   "version": "3.6.3"
  }
 },
 "nbformat": 4,
 "nbformat_minor": 2
}
